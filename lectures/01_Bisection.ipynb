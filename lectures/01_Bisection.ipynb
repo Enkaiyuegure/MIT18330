{
 "cells": [
  {
   "cell_type": "markdown",
   "id": "c309c7a9-e2eb-479f-b85b-55e3999bf492",
   "metadata": {},
   "source": [
    "# 二分Bisection\n",
    "求得$f(x) = 0$"
   ]
  },
  {
   "cell_type": "code",
   "execution_count": 1,
   "id": "e754f865-b9f7-40f1-be20-628b8046bc52",
   "metadata": {},
   "outputs": [
    {
     "data": {
      "text/plain": [
       "bisection"
      ]
     },
     "execution_count": 1,
     "metadata": {},
     "output_type": "execute_result"
    }
   ],
   "source": [
    "\"\"\"\n",
    "使用二分查找算法在区间(left, right)上寻找f(x)的根\n",
    "\"\"\"\n",
    "function bisection(f, left, right, ϵ)\n",
    "end"
   ]
  },
  {
   "cell_type": "code",
   "execution_count": 2,
   "id": "7f8903d7-d747-4e48-8037-2f5e216123f4",
   "metadata": {},
   "outputs": [
    {
     "data": {
      "text/plain": [
       "bisection (generic function with 2 methods)"
      ]
     },
     "execution_count": 2,
     "metadata": {},
     "output_type": "execute_result"
    }
   ],
   "source": [
    "function bisection(f, left, right, ϵ = 10e-10)\n",
    "    if sign(f(left)) == sign(f(right))\n",
    "        error(\"Must be different signs\")\n",
    "    end\n",
    "\n",
    "    mid = left\n",
    "\n",
    "    while abs(left - right) > ϵ\n",
    "        mid = (left + right) / 2\n",
    "        \n",
    "        if sign(f(mid)) == sign(f(left))\n",
    "            (left, right) = (mid, right)\n",
    "        else\n",
    "            (left, right) = (left, mid)\n",
    "        end\n",
    "    end\n",
    "\n",
    "    return mid\n",
    "end"
   ]
  },
  {
   "cell_type": "code",
   "execution_count": 6,
   "id": "ef9fdd04-970e-4f9c-93ad-7662dc91ce0a",
   "metadata": {},
   "outputs": [
    {
     "data": {
      "text/plain": [
       "1.4142135614529252"
      ]
     },
     "execution_count": 6,
     "metadata": {},
     "output_type": "execute_result"
    }
   ],
   "source": [
    "f(x) = x^2 - 2\n",
    "\n",
    "result = bisection(f, 1, 2)"
   ]
  },
  {
   "cell_type": "code",
   "execution_count": 7,
   "id": "b1d03324-8d67-412c-a3ef-b2d776eed679",
   "metadata": {},
   "outputs": [
    {
     "data": {
      "text/plain": [
       "9.20169940243909e-10"
      ]
     },
     "execution_count": 7,
     "metadata": {},
     "output_type": "execute_result"
    }
   ],
   "source": [
    "abs(result - √2)"
   ]
  },
  {
   "cell_type": "markdown",
   "id": "a17fa70d-f01d-48c7-9d65-31b882e2d89b",
   "metadata": {},
   "source": [
    "# 高精度浮点数\n",
    "`s = bisection(f, 1, 2, 1e-20)`  \n",
    "上式因为溢出而变成无限循环，使用`big()`解决"
   ]
  },
  {
   "cell_type": "code",
   "execution_count": 9,
   "id": "2cad53bc-eb11-4375-875e-3e03b9e03f96",
   "metadata": {},
   "outputs": [
    {
     "data": {
      "text/plain": [
       "1.4142135623730950487976693909220049505393035360611975193023681640625"
      ]
     },
     "execution_count": 9,
     "metadata": {},
     "output_type": "execute_result"
    }
   ],
   "source": [
    "result = bisection(f, big(1.0), big(2.0), 1e-20)"
   ]
  },
  {
   "cell_type": "code",
   "execution_count": 11,
   "id": "32fa606f-3338-4142-ac30-05ac6da19a3d",
   "metadata": {},
   "outputs": [
    {
     "data": {
      "text/plain": [
       "4.019333287693128030368339315750553874311573928232478462101979514711560580339734e-21"
      ]
     },
     "execution_count": 11,
     "metadata": {},
     "output_type": "execute_result"
    }
   ],
   "source": [
    "abs(result - √big(2.0))"
   ]
  },
  {
   "cell_type": "markdown",
   "id": "19c254b2-cb59-43ea-8e72-47102e9b794f",
   "metadata": {},
   "source": [
    "## 设置高精度浮点数的精度"
   ]
  },
  {
   "cell_type": "code",
   "execution_count": 12,
   "id": "bd69f826-8429-4046-9756-6790002eeb0f",
   "metadata": {},
   "outputs": [
    {
     "data": {
      "text/plain": [
       "1000"
      ]
     },
     "execution_count": 12,
     "metadata": {},
     "output_type": "execute_result"
    }
   ],
   "source": [
    "setprecision(BigFloat, 1000)"
   ]
  },
  {
   "cell_type": "code",
   "execution_count": 13,
   "id": "116b2324-f5f9-415b-8fc9-b1edad895472",
   "metadata": {},
   "outputs": [
    {
     "data": {
      "text/plain": [
       "1.41421356237309504880168872420969807856967187537694807317667973799073247846210703885038753432764157276367576424917916944837024502313967264316715442847022113301802081019687938206377075790445357619244225703452774567550866884727926332618493232338196631121338923763250294011768699481181664079235214132035381"
      ]
     },
     "execution_count": 13,
     "metadata": {},
     "output_type": "execute_result"
    }
   ],
   "source": [
    "result = bisection(f, big(1.0), big(2.0), 1e-100)"
   ]
  },
  {
   "cell_type": "code",
   "execution_count": 14,
   "id": "7de86f7f-da8c-4b9f-baee-dc5590d02639",
   "metadata": {},
   "outputs": [
    {
     "data": {
      "text/plain": [
       "2.86619180182668724234454089672889354305230329313702853016047981442693737893079708074033007941318707869249677740695383943126824013114564149047410771126038369084020186314033655439720540371643568899123641688369242159053939683798850084753093644472320011646345133439032503430239469631153166865243137870883713e-101"
      ]
     },
     "execution_count": 14,
     "metadata": {},
     "output_type": "execute_result"
    }
   ],
   "source": [
    "abs(result - √big(2.0))"
   ]
  },
  {
   "cell_type": "markdown",
   "id": "0671603c-a4f9-4b19-8cbd-b2319e9eac4e",
   "metadata": {},
   "source": [
    "实际上，现实中有意义的精度是13位左右(受限于测量精度)，只需要精确到这一位即可"
   ]
  },
  {
   "cell_type": "code",
   "execution_count": null,
   "id": "fc7509a5-fd02-426d-848c-6c5c942d33db",
   "metadata": {},
   "outputs": [],
   "source": []
  }
 ],
 "metadata": {
  "kernelspec": {
   "display_name": "Julia 1.11.1",
   "language": "julia",
   "name": "julia-1.11"
  },
  "language_info": {
   "file_extension": ".jl",
   "mimetype": "application/julia",
   "name": "julia",
   "version": "1.11.1"
  }
 },
 "nbformat": 4,
 "nbformat_minor": 5
}
