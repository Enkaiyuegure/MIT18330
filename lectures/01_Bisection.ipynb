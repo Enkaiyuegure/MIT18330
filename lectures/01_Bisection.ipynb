{
 "cells": [
  {
   "cell_type": "markdown",
   "id": "c309c7a9-e2eb-479f-b85b-55e3999bf492",
   "metadata": {},
   "source": [
    "# Bisection \\\\ 二分查找"
   ]
  },
  {
   "cell_type": "markdown",
   "id": "ea8efe4b-39ab-4f8a-b14b-142d123bcdea",
   "metadata": {},
   "source": [
    "We want to solve equation $f(x) = 0$  \n",
    "求得$f(x) = 0$"
   ]
  },
  {
   "cell_type": "code",
   "execution_count": 17,
   "id": "e754f865-b9f7-40f1-be20-628b8046bc52",
   "metadata": {},
   "outputs": [
    {
     "data": {
      "text/plain": [
       "bisection"
      ]
     },
     "execution_count": 17,
     "metadata": {},
     "output_type": "execute_result"
    }
   ],
   "source": [
    "\"\"\"\n",
    "Use bisection alg to solve \\$f(x) = 0\\$ between \\$left\\$ and \\$right\\$.<br>\n",
    "使用二分查找算法在区间(\\$left\\$, \\$right\\$)上寻找\\$f(x) = 0\\$的根。\n",
    "\"\"\"\n",
    "function bisection(f, left, right, ϵ)\n",
    "end"
   ]
  },
  {
   "cell_type": "code",
   "execution_count": 18,
   "id": "20df359a-397d-4bd7-bfcd-de9161fec8ac",
   "metadata": {},
   "outputs": [
    {
     "name": "stdout",
     "output_type": "stream",
     "text": [
      "search: \u001b[0m\u001b[1mb\u001b[22m\u001b[0m\u001b[1mi\u001b[22m\u001b[0m\u001b[1ms\u001b[22m\u001b[0m\u001b[1me\u001b[22m\u001b[0m\u001b[1mc\u001b[22m\u001b[0m\u001b[1mt\u001b[22m\u001b[0m\u001b[1mi\u001b[22m\u001b[0m\u001b[1mo\u001b[22m\u001b[0m\u001b[1mn\u001b[22m function Exception position Function @cfunction\n",
      "\n"
     ]
    },
    {
     "data": {
      "text/latex": [
       "Use bisection alg to solve $f(x) = 0$ between $left$ and $right$.<br> 使用二分查找算法在区间($left$, $right$)上寻找$f(x) = 0$的根。\n",
       "\n"
      ],
      "text/markdown": [
       "Use bisection alg to solve $f(x) = 0$ between $left$ and $right$.<br> 使用二分查找算法在区间($left$, $right$)上寻找$f(x) = 0$的根。\n"
      ],
      "text/plain": [
       "  Use bisection alg to solve \u001b[35mf(x) = 0\u001b[39m between \u001b[35mleft\u001b[39m and \u001b[35mright\u001b[39m.<br>\n",
       "  使用二分查找算法在区间(\u001b[35mleft\u001b[39m, \u001b[35mright\u001b[39m)上寻找\u001b[35mf(x) = 0\u001b[39m的根。"
      ]
     },
     "execution_count": 18,
     "metadata": {},
     "output_type": "execute_result"
    }
   ],
   "source": [
    "?bisection"
   ]
  },
  {
   "cell_type": "code",
   "execution_count": 19,
   "id": "7f8903d7-d747-4e48-8037-2f5e216123f4",
   "metadata": {},
   "outputs": [
    {
     "data": {
      "text/plain": [
       "bisection (generic function with 2 methods)"
      ]
     },
     "execution_count": 19,
     "metadata": {},
     "output_type": "execute_result"
    }
   ],
   "source": [
    "function bisection(f, left, right, ϵ = 10e-10) # \\epsilon<TAB> any unicode characters~\n",
    "    if sign(f(left)) == sign(f(right))\n",
    "        error(\"Must be different signs\")\n",
    "    end\n",
    "\n",
    "    mid = left\n",
    "\n",
    "    while abs(left - right) > ϵ\n",
    "        mid = (left + right) / 2\n",
    "        \n",
    "        if sign(f(mid)) == sign(f(left))\n",
    "            (left, right) = (mid, right)\n",
    "        else\n",
    "            (left, right) = (left, mid)\n",
    "        end\n",
    "    end\n",
    "\n",
    "    return mid\n",
    "end"
   ]
  },
  {
   "cell_type": "code",
   "execution_count": 20,
   "id": "ef9fdd04-970e-4f9c-93ad-7662dc91ce0a",
   "metadata": {},
   "outputs": [
    {
     "data": {
      "text/plain": [
       "1.4142135614529252"
      ]
     },
     "execution_count": 20,
     "metadata": {},
     "output_type": "execute_result"
    }
   ],
   "source": [
    "f(x) = x^2 - 2\n",
    "\n",
    "result = bisection(f, 1, 2)"
   ]
  },
  {
   "cell_type": "code",
   "execution_count": 21,
   "id": "b1d03324-8d67-412c-a3ef-b2d776eed679",
   "metadata": {},
   "outputs": [
    {
     "data": {
      "text/plain": [
       "9.20169940243909e-10"
      ]
     },
     "execution_count": 21,
     "metadata": {},
     "output_type": "execute_result"
    }
   ],
   "source": [
    "abs(result - √2)"
   ]
  },
  {
   "cell_type": "markdown",
   "id": "a17fa70d-f01d-48c7-9d65-31b882e2d89b",
   "metadata": {},
   "source": [
    "# High-precision float \\\\ 高精度浮点数\n",
    "`s = bisection(f, 1, 2, 1e-20)`  \n",
    "Above formula enters an infinite loop due to type overflow, and can be resolved by using `big()`.  \n",
    "上式因为类型溢出而陷入无限循环，使用`big()`解决。"
   ]
  },
  {
   "cell_type": "code",
   "execution_count": 22,
   "id": "2cad53bc-eb11-4375-875e-3e03b9e03f96",
   "metadata": {},
   "outputs": [
    {
     "data": {
      "text/plain": [
       "1.4142135623730950487976693909220049505393035360611975193023681640625"
      ]
     },
     "execution_count": 22,
     "metadata": {},
     "output_type": "execute_result"
    }
   ],
   "source": [
    "result = bisection(f, big(1.0), big(2.0), 1e-20)"
   ]
  },
  {
   "cell_type": "code",
   "execution_count": 23,
   "id": "32fa606f-3338-4142-ac30-05ac6da19a3d",
   "metadata": {},
   "outputs": [
    {
     "data": {
      "text/plain": [
       "4.019333287693128030368339315750553874311573928232478462101979514711560580339734e-21"
      ]
     },
     "execution_count": 23,
     "metadata": {},
     "output_type": "execute_result"
    }
   ],
   "source": [
    "abs(result - √big(2.0))"
   ]
  },
  {
   "cell_type": "markdown",
   "id": "19c254b2-cb59-43ea-8e72-47102e9b794f",
   "metadata": {},
   "source": [
    "## Set the precision of High-precision float \\\\ 设置高精度浮点数的精度"
   ]
  },
  {
   "cell_type": "code",
   "execution_count": 24,
   "id": "bd69f826-8429-4046-9756-6790002eeb0f",
   "metadata": {},
   "outputs": [
    {
     "data": {
      "text/plain": [
       "1000"
      ]
     },
     "execution_count": 24,
     "metadata": {},
     "output_type": "execute_result"
    }
   ],
   "source": [
    "setprecision(BigFloat, 1000)"
   ]
  },
  {
   "cell_type": "code",
   "execution_count": 25,
   "id": "116b2324-f5f9-415b-8fc9-b1edad895472",
   "metadata": {},
   "outputs": [
    {
     "data": {
      "text/plain": [
       "1.41421356237309504880168872420969807856967187537694807317667973799073247846210703885038753432764157276367576424917916944837024502313967264316715442847022113301802081019687938206377075790445357619244225703452774567550866884727926332618493232338196631121338923763250294011768699481181664079235214132035381"
      ]
     },
     "execution_count": 25,
     "metadata": {},
     "output_type": "execute_result"
    }
   ],
   "source": [
    "result = bisection(f, big(1.0), big(2.0), 1e-100)"
   ]
  },
  {
   "cell_type": "code",
   "execution_count": 26,
   "id": "7de86f7f-da8c-4b9f-baee-dc5590d02639",
   "metadata": {},
   "outputs": [
    {
     "data": {
      "text/plain": [
       "2.86619180182668724234454089672889354305230329313702853016047981442693737893079708074033007941318707869249677740695383943126824013114564149047410771126038369084020186314033655439720540371643568899123641688369242159053939683798850084753093644472320011646345133439032503430239469631153166865243137870883713e-101"
      ]
     },
     "execution_count": 26,
     "metadata": {},
     "output_type": "execute_result"
    }
   ],
   "source": [
    "abs(result - √big(2.0))"
   ]
  },
  {
   "cell_type": "markdown",
   "id": "0671603c-a4f9-4b19-8cbd-b2319e9eac4e",
   "metadata": {},
   "source": [
    "In fact, the meaningful precision in reality is around 13 digits(limited by measurement accuracy), so when solving with computer, just to be accurate to this.  \n",
    "实际上，现实中有意义的精度是13位左右(受限于测量精度)，所以在使用计算机求解时只需要精确到这一位即可。"
   ]
  },
  {
   "cell_type": "code",
   "execution_count": null,
   "id": "fc7509a5-fd02-426d-848c-6c5c942d33db",
   "metadata": {},
   "outputs": [],
   "source": []
  }
 ],
 "metadata": {
  "kernelspec": {
   "display_name": "Julia 1.11.2",
   "language": "julia",
   "name": "julia-1.11"
  },
  "language_info": {
   "file_extension": ".jl",
   "mimetype": "application/julia",
   "name": "julia",
   "version": "1.11.2"
  }
 },
 "nbformat": 4,
 "nbformat_minor": 5
}
